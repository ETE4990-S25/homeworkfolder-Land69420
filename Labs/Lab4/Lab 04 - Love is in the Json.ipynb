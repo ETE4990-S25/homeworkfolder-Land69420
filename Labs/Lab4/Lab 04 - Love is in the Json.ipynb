{
 "cells": [
  {
   "cell_type": "markdown",
   "metadata": {},
   "source": [
    "# Valentine's Day Lab Assignment\n",
    "Picking a Romantic Movie\n",
    "\n",
    "## Instructions:\n",
    "1. Download a dataset of romantic movies from a public dataset repository (e.g., Kaggle).\n",
    "   - Example dataset: \"Romantic Movies Dataset\" (ensure it's in JSON format).\n",
    "2. Load the dataset from the JSON file.\n",
    "3. Create a function that helps pick a romantic movie based on user preferences.\n",
    "4. Display the selected movie details.\n",
    "5. Verify the JSON file content\n",
    "\n"
   ]
  },
  {
   "cell_type": "code",
   "execution_count": null,
   "metadata": {},
   "outputs": [],
   "source": [
    "# Sample Code:\n",
    "min_rating = float(input(\"Enter the minimum rating (0-10): \"))\n",
    "max_year = int(input(\"Enter the latest release year: \"))\n",
    "\n",
    "selected_movie = pick_movie(data, min_rating, max_year)\n",
    "\n",
    "if isinstance(selected_movie, str):\n",
    "    print(selected_movie)\n",
    "else:\n",
    "    print(f\"Selected Movie: {selected_movie['Title']}\")\n",
    "    print(f\"Year: {selected_movie['Year']}\")\n",
    "    print(f\"Rating: {selected_movie['Rating']}\")\n",
    "    print(f\"Box Office: ${selected_movie['BoxOffice']} million\")"
   ]
  },
  {
   "cell_type": "code",
   "execution_count": null,
   "metadata": {},
   "outputs": [
    {
     "name": "stdout",
     "output_type": "stream",
     "text": [
      "movies in genre: Comedy \n",
      "\n",
      "('tt0118799', 'La vita è bella')\n",
      "('tt0088763', 'Back to the Future')\n",
      "('tt6751668', 'Gisaengchung')\n",
      "('tt1675434', 'The Intouchables')\n",
      "('tt0027977', 'Modern Times')\n",
      "('tt0021749', 'City Lights')\n",
      "('tt0032553', 'The Great Dictator')\n",
      "('tt0057012', 'Dr. Strangelove or: How I Learned to Stop Worrying and Love the Bomb')\n",
      "('tt0114709', 'Toy Story')\n",
      "('tt2380307', 'Coco')\n",
      "('tt0435761', 'Toy Story 3')\n",
      "('tt0045152', \"Singin' in the Rain\")\n",
      "('tt1187043', '3 Idiots')\n",
      "('tt0211915', \"Le fabuleux destin d'Amélie Poulain\")\n",
      "('tt0053604', 'The Apartment')\n",
      "('tt0070735', 'The Sting')\n",
      "('tt1049413', 'Up')\n",
      "('tt0208092', 'Snatch')\n",
      "('tt0012349', 'The Kid')\n",
      "('tt0053291', 'Some Like It Hot')\n",
      "('tt6966692', 'Green Book')\n",
      "('tt0993846', 'The Wolf of Wall Street')\n",
      "('tt6710474', 'Everything Everywhere All at Once')\n",
      "('tt0071853', 'Monty Python and the Holy Grail')\n",
      "('tt0120382', 'The Truman Show')\n",
      "('tt0266543', 'Finding Nemo')\n",
      "('tt2096673', 'Inside Out')\n",
      "('tt0120735', 'Lock, Stock and Two Smoking Barrels')\n",
      "('tt5027774', 'Three Billboards Outside Ebbing, Missouri')\n",
      "('tt0096283', 'Tonari no Totoro')\n",
      "('tt0015864', 'The Gold Rush')\n",
      "('tt0017925', 'The General')\n",
      "('tt2278388', 'The Grand Budapest Hotel')\n",
      "('tt0031679', 'Mr. Smith Goes to Washington')\n",
      "('tt0015324', 'Sherlock Jr.')\n",
      "('tt4729430', 'Klaus')\n",
      "('tt3011894', 'Relatos salvajes')\n",
      "('tt0118715', 'The Big Lebowski')\n",
      "('tt0978762', 'Mary and Max.')\n",
      "('tt0198781', 'Monsters, Inc.')\n",
      "('tt0097165', 'Dead Poets Society')\n",
      "('tt0107048', 'Groundhog Day')\n",
      "('tt0382932', 'Ratatouille')\n",
      "('tt0035446', 'To Be or Not to Be')\n",
      "('tt0079470', 'Life of Brian')\n",
      "('tt0025316', 'It Happened One Night')\n",
      "('tt0103639', 'Aladdin')\n"
     ]
    }
   ],
   "source": [
    "# my code\n",
    "\n",
    "\n",
    "import json\n",
    "\n",
    "def pick_movie(selected_genre): \n",
    "    \"\"\"takes in genre as string and prints movies in genre\"\"\"\n",
    "\n",
    "    with open(\"genre.json\", \"r\") as file:\n",
    "        movie_genre_file = json.load(file)      #open and load json\n",
    "\n",
    "        if selected_genre in movie_genre_file:          #check if selcted genre is a possible genre\n",
    "            print(f\"movies in genre: {selected_genre} \\n\")\n",
    "\n",
    "            for movie in movie_genre_file[selected_genre].items():  #iterates through movies listed in genre and prints the movie\n",
    "                print(movie[1])             #indexed at 1 because dataset has a number code as key value and we only want name\n",
    "\n",
    "\n",
    "        else:\n",
    "            print(\"genre not found\")    #if genre isn't in movie_genre_file\n",
    "\n",
    "\n",
    "            \n",
    "genre = str(input(\"Enter genre): \"))\n",
    "genre = genre.title()       #capitalizes genre\n",
    "\n",
    "selected_movie = pick_movie(genre)"
   ]
  },
  {
   "cell_type": "code",
   "execution_count": null,
   "metadata": {},
   "outputs": [],
   "source": []
  }
 ],
 "metadata": {
  "kernelspec": {
   "display_name": "base",
   "language": "python",
   "name": "python3"
  },
  "language_info": {
   "codemirror_mode": {
    "name": "ipython",
    "version": 3
   },
   "file_extension": ".py",
   "mimetype": "text/x-python",
   "name": "python",
   "nbconvert_exporter": "python",
   "pygments_lexer": "ipython3",
   "version": "3.12.7"
  }
 },
 "nbformat": 4,
 "nbformat_minor": 2
}
