{
 "cells": [
  {
   "cell_type": "markdown",
   "metadata": {},
   "source": [
    "# alexander and Maggie"
   ]
  },
  {
   "cell_type": "markdown",
   "metadata": {},
   "source": [
    "## Lab Objective:\n",
    "Create a Python script that recursively searches a file system for files with identical names. Perform a comparison on files and output the file paths of identical files.\n",
    "\n",
    "## Required tasks\n",
    "1. A menu\n",
    "    - this should be fairly easy seeing as your games (should) already have a menu system\n",
    "2. Recursive Search\n",
    "    - a recursive search is a search that will travle into a folder and back out.\n",
    "3. Comparison\n",
    "    - I recomend using a check sum comparison operation like MD5 or SHA-256\n",
    "4. Output\n",
    "    - the program will output files and there directories \n",
    "        - this can be done live or after\n",
    "\n",
    "## Instructions:\n",
    "Submit the file as a .py show it running in a .ipynb file\n",
    "\n",
    "\n",
    "Please find some sample code below to get you started\n",
    "\n"
   ]
  },
  {
   "cell_type": "code",
   "execution_count": null,
   "metadata": {},
   "outputs": [],
   "source": [
    "import os\n",
    "import hashlib\n",
    "\n",
    "def menu():\n",
    "    while True:\n",
    "        print(\"\\n--- File Duplicate Finder ---\")\n",
    "        print(\"1. Enter directory to search\")\n",
    "        print(\"2. Exit\")\n",
    "        choice = input(\"Choose an option: \")\n",
    "\n",
    "def find_duplicates(directory):\n",
    "    pass\n",
    "    # search os.walk(directory):\n",
    "    # use a dictionary to store file names and paths\n",
    "    # compare files with the same name\n",
    "\n",
    "def get_checksum(file_path):\n",
    "    hash_obj = hashlib.md5()  # Change to hashlib.sha256() if desired\n",
    "    with open(file_path, 'rb') as f:\n",
    "        while chunk := f.read(8192):\n",
    "            hash_obj.update(chunk)\n",
    "    return hash_obj.hexdigest()\n",
    "\n",
    "\n",
    "if __name__ == \"__main__\":\n",
    "    menu()"
   ]
  },
  {
   "cell_type": "code",
   "execution_count": null,
   "metadata": {},
   "outputs": [
    {
     "name": "stdout",
     "output_type": "stream",
     "text": [
      "\n",
      "--- File Duplicate Finder ---\n",
      "1. Enter directory to search\n",
      "2. Exit\n",
      "exiting duplicate file finder\n"
     ]
    }
   ],
   "source": [
    "# my code\n",
    "\n",
    "import os\n",
    "import hashlib\n",
    "\n",
    "def menu():\n",
    "    while True:\n",
    "        try:\n",
    "            print(\"\\n--- File Duplicate Finder ---\")\n",
    "            print(\"1. Enter directory to search\")\n",
    "            print(\"2. Exit\")\n",
    "\n",
    "            choice = str(input(\"Choose an option: \"))\n",
    "\n",
    "\n",
    "            #if the user chose 1 it'll start progra, otherwise it'll break the while loop\n",
    "            if choice == \"1\":\n",
    "                #saves directory user inputs\n",
    "                directory = input(\"input directory: \")\n",
    "\n",
    "                # find duplicates outputs a list full of lists of duplicates \n",
    "                # example of what list could look like [[duplicate1, duplicates1] , [duplicate2, duplicate2,duplicate2]]\n",
    "\n",
    "                #then it'll traverse each set of duplicates and print them out, between each set it'll say \"these are duplicates: \"\n",
    "                for set_of_duplicates in find_duplicates(directory):\n",
    "                    print(\"these are duplicates: \")\n",
    "                    for duplicate_file in set_of_duplicates:\n",
    "                        print(duplicate_file)\n",
    "\n",
    "            else:\n",
    "                print('exiting duplicate file finder')\n",
    "                break\n",
    "\n",
    "                #allows for keyboard interrupt to leave while loop\n",
    "        except KeyboardInterrupt:\n",
    "            break\n",
    "\n",
    "\n",
    "\n",
    "\n",
    "def find_duplicates(directory):\n",
    "    dict_of_files= {}\n",
    "    duplicates = []\n",
    "\n",
    "    for dirpath, subdir, files in os.walk(directory):\n",
    "        for file in files:\n",
    "            # for the current file the for loop is looking at, store file path and checksum\n",
    "            file_path = os.path.join(dirpath,file)\n",
    "            file_checksum = get_checksum(file_path)\n",
    "\n",
    "            #if two files have the same content, they'll have the same checksum. \n",
    "            #if the current file has a unique checksum, it'll add a key value pair to the dict_of_files in the format of {file_checksum:[filepath]}\n",
    "            #if the checksum already exists, then it'll add another filepath to the filepath list.\n",
    "\n",
    "            if file_checksum in dict_of_files:\n",
    "                dict_of_files[file_checksum].append(file_path)\n",
    "            else:\n",
    "                dict_of_files[file_checksum] = [file_path]\n",
    "\n",
    "        \n",
    "    # this will find if there is more than one file path saved per unique checksum and if there is, add it to duplicates\n",
    "    for file_list in dict_of_files.values():\n",
    "\n",
    "        if len(file_list) > 1:\n",
    "            duplicates.append(file_list)\n",
    "\n",
    "    return duplicates\n",
    "\n",
    "# I did not write this function.\n",
    "def get_checksum(file_path):\n",
    "    hash_obj = hashlib.md5()  # Change to hashlib.sha256() if desired\n",
    "    with open(file_path, 'rb') as f:\n",
    "        while chunk := f.read(8192):\n",
    "            hash_obj.update(chunk)\n",
    "    return hash_obj.hexdigest()\n",
    "\n",
    "\n",
    "if __name__ == \"__main__\":\n",
    "    menu()"
   ]
  },
  {
   "cell_type": "code",
   "execution_count": null,
   "metadata": {},
   "outputs": [],
   "source": [
    "\n"
   ]
  },
  {
   "cell_type": "code",
   "execution_count": null,
   "metadata": {},
   "outputs": [],
   "source": []
  }
 ],
 "metadata": {
  "kernelspec": {
   "display_name": "base",
   "language": "python",
   "name": "python3"
  },
  "language_info": {
   "codemirror_mode": {
    "name": "ipython",
    "version": 3
   },
   "file_extension": ".py",
   "mimetype": "text/x-python",
   "name": "python",
   "nbconvert_exporter": "python",
   "pygments_lexer": "ipython3",
   "version": "3.12.7"
  }
 },
 "nbformat": 4,
 "nbformat_minor": 2
}
