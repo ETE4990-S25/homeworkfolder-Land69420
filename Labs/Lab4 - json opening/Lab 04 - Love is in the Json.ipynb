{
 "cells": [
  {
   "cell_type": "markdown",
   "metadata": {},
   "source": [
    "# Valentine's Day Lab Assignment  -- Maggie & Alex\n",
    "Picking a Romantic Movie\n",
    "\n",
    "## Instructions:\n",
    "1. Download a dataset of romantic movies from a public dataset repository (e.g., Kaggle).\n",
    "   - Example dataset: \"Romantic Movies Dataset\" (ensure it's in JSON format).\n",
    "2. Load the dataset from the JSON file.\n",
    "3. Create a function that helps pick a romantic movie based on user preferences.\n",
    "4. Display the selected movie details.\n",
    "5. Verify the JSON file content\n",
    "\n"
   ]
  },
  {
   "cell_type": "code",
   "execution_count": null,
   "metadata": {},
   "outputs": [],
   "source": [
    "# Sample Code:\n",
    "min_rating = float(input(\"Enter the minimum rating (0-10): \"))\n",
    "max_year = int(input(\"Enter the latest release year: \"))\n",
    "\n",
    "selected_movie = pick_movie(data, min_rating, max_year)\n",
    "\n",
    "if isinstance(selected_movie, str):\n",
    "    print(selected_movie)\n",
    "else:\n",
    "    print(f\"Selected Movie: {selected_movie['Title']}\")\n",
    "    print(f\"Year: {selected_movie['Year']}\")\n",
    "    print(f\"Rating: {selected_movie['Rating']}\")\n",
    "    print(f\"Box Office: ${selected_movie['BoxOffice']} million\")"
   ]
  },
  {
   "cell_type": "code",
   "execution_count": null,
   "metadata": {},
   "outputs": [
    {
     "name": "stdout",
     "output_type": "stream",
     "text": [
      "movies in genre: Romance \n",
      "\n",
      "Forrest Gump\n",
      "La vita è bella\n",
      "Casablanca\n",
      "Modern Times\n",
      "City Lights\n",
      "Nuovo Cinema Paradiso\n",
      "Good Will Hunting\n",
      "Singin' in the Rain\n",
      "Eternal Sunshine of the Spotless Mind\n",
      "Vertigo\n",
      "Le fabuleux destin d'Amélie Poulain\n",
      "The Apartment\n",
      "Some Like It Hot\n",
      "Gone with the Wind\n",
      "El secreto de sus ojos\n",
      "Smultronstället\n",
      "Before Sunrise\n",
      "Sherlock Jr.\n",
      "Before Sunset\n",
      "The Best Years of Our Lives\n",
      "To Be or Not to Be\n",
      "It Happened One Night\n",
      "Ah-ga-ssi\n"
     ]
    }
   ],
   "source": [
    "# our code\n",
    "\n",
    "\n",
    "import json\n",
    "\n",
    "def pick_movie(selected_genre): \n",
    "    \"\"\"takes in genre as string and prints movies in genre\"\"\"\n",
    "\n",
    "    with open(\"genre.json\", \"r\") as file:\n",
    "        movie_genre_file = json.load(file)      #open and load json\n",
    "\n",
    "        if selected_genre in movie_genre_file:          #check if selcted genre is a possible genre\n",
    "            print(f\"movies in genre: {selected_genre} \\n\")\n",
    "\n",
    "            for movie in movie_genre_file[selected_genre].items():  #iterates through movies listed in genre and prints the movie\n",
    "                print(movie[1])             #indexed at 1 because dataset has a number code as key value and we only want name\n",
    "\n",
    "\n",
    "        else:\n",
    "            print(\"genre not found\")    #if genre isn't in movie_genre_file\n",
    "\n",
    "\n",
    "            \n",
    "genre = str(input(\"Enter genre): \"))\n",
    "genre = genre.title()       #capitalizes genre\n",
    "\n",
    "selected_movie = pick_movie(genre)"
   ]
  },
  {
   "cell_type": "code",
   "execution_count": null,
   "metadata": {},
   "outputs": [],
   "source": []
  }
 ],
 "metadata": {
  "kernelspec": {
   "display_name": "base",
   "language": "python",
   "name": "python3"
  },
  "language_info": {
   "codemirror_mode": {
    "name": "ipython",
    "version": 3
   },
   "file_extension": ".py",
   "mimetype": "text/x-python",
   "name": "python",
   "nbconvert_exporter": "python",
   "pygments_lexer": "ipython3",
   "version": "3.12.7"
  }
 },
 "nbformat": 4,
 "nbformat_minor": 2
}
