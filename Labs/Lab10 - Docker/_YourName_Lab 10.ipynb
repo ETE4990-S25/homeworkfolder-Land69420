{
 "cells": [
  {
   "cell_type": "markdown",
   "id": "5e447dac-da84-4169-8796-3917ed6d8103",
   "metadata": {},
   "source": [
    "# Lab 10\n",
    "Understanding Docker Networks\n",
    "\n",
    "What is Container Networking?\n",
    "Container networking also called Software Defined Networking (SDN) is what allows Docker networkgin subsystems to work. \n",
    "\n",
    "Some defalt Docker Netwrok drivers are:\n",
    "- Bridge\n",
    "    - a Network that is User-defined to allow for all containers connected on the same network to communicate with eachother. \n",
    "- Host\n",
    "    - a container is attahed to a Docker host. Any traffic routed to the container must be routed from the host system.\n",
    "- Overlay\n",
    "    - Created in a network spanning multiple docker hosts. Think each of your docker containers in the lab talking to eachother\n",
    "- Macvlan\n",
    "    - used in complicated networking to assing logical addresses based on MAC addresses to the virtual network interfaces making it apear as if the container has a physical network interaface connected to the network. Used in legacy applications.\n",
    "- None\n",
    "    -  the container only has a loopback interface so it can talk to itself.\n",
    "\n"
   ]
  },
  {
   "cell_type": "markdown",
   "id": "6c1971a0-cbb0-4889-bf10-59d6f08cb1ec",
   "metadata": {},
   "source": [
    "# Part 1 - Setup"
   ]
  },
  {
   "cell_type": "code",
   "execution_count": 8,
   "id": "6acffbb4-8220-4bf2-bed2-15113dad9621",
   "metadata": {},
   "outputs": [
    {
     "name": "stderr",
     "output_type": "stream",
     "text": [
      "docker: request returned Internal Server Error for API route and version http://%2F%2F.%2Fpipe%2FdockerDesktopLinuxEngine/_ping, check if the server supports the requested API version.\n",
      "See 'docker run --help'.\n"
     ]
    }
   ],
   "source": [
    "!docker run -d --name nginx --network=none -p 81:81 nginx"
   ]
  },
  {
   "cell_type": "markdown",
   "id": "7c2e897d",
   "metadata": {},
   "source": [
    "## Note:\n",
    "**If you get this error:**\n",
    "\n",
    "*docker: permission denied while trying to connect to the Docker daemon ...*\n",
    "\n",
    "run this in wsl: \n",
    "``` bash\n",
    "sudo usermod -aG docker $USER\n",
    "newgrp docker\n",
    "sudo systemctl restart docker\n",
    "```\n",
    "Run it again....\n",
    "\n",
    "you should get a hash number YAY!\n",
    "\n",
    "`cbb2f01cd1b...`\n",
    "\n",
    "--------------------------------------\n",
    "If you are still getting the error\n",
    "\n",
    "\n",
    "run this:\n",
    "``` bash\n",
    "sudo chmod 666 /usr/docker.sock\n",
    "```\n",
    "--------------------------------------\n",
    "**If you get this error you did things right**\n",
    "\n",
    "docker: Error response from daemon: Conflict. The container name \"/nginx\n",
    "\n",
    "--------------------------------------\n"
   ]
  },
  {
   "cell_type": "markdown",
   "id": "2d98e870-0a17-4c39-bd13-01e33efb6968",
   "metadata": {},
   "source": [
    "## we now have an nginx container \n",
    "\n",
    "NGINX serves static content (like HTML, CSS, JavaScript, images) efficiently, improving website performance."
   ]
  },
  {
   "cell_type": "code",
   "execution_count": 2,
   "id": "bf176171-5f9f-4ac7-9286-425a76eb8305",
   "metadata": {},
   "outputs": [
    {
     "name": "stderr",
     "output_type": "stream",
     "text": [
      "  % Total    % Received % Xferd  Average Speed   Time    Time     Time  Current\n",
      "                                 Dload  Upload   Total   Spent    Left  Speed\n",
      "\n",
      "  0     0    0     0    0     0      0      0 --:--:-- --:--:-- --:--:--     0\n",
      "  0     0    0     0    0     0      0      0 --:--:--  0:00:01 --:--:--     0\n",
      "  0     0    0     0    0     0      0      0 --:--:--  0:00:02 --:--:--     0\n",
      "  0     0    0     0    0     0      0      0 --:--:--  0:00:02 --:--:--     0\n",
      "curl: (7) Failed to connect to localhost port 80 after 2538 ms: Could not connect to server\n"
     ]
    }
   ],
   "source": [
    "!curl localhost\n",
    "\n",
    "#the curl command should fail on our system "
   ]
  },
  {
   "cell_type": "markdown",
   "id": "5b36335c",
   "metadata": {},
   "source": [
    "Lets run it on the docker container "
   ]
  },
  {
   "cell_type": "code",
   "execution_count": null,
   "id": "7d5e5d9d-447c-42fe-8001-32558b74c99f",
   "metadata": {},
   "outputs": [],
   "source": [
    "!docker exec -it nginx /bin/sh -c \"curl google.com\"\n",
    "\n"
   ]
  },
  {
   "cell_type": "markdown",
   "id": "9ce3c2a3-94d5-4a41-9ade-d7547f0bf620",
   "metadata": {},
   "source": [
    "* curl:(6) Could not resolve host: google.com\n",
    "\n",
    "As you can see the nginx container can not talk to google.com"
   ]
  },
  {
   "cell_type": "markdown",
   "id": "350ca9e3",
   "metadata": {},
   "source": [
    "# Part 2 - Understanding the network \n",
    "Docker comes with a subcommand for handling Docker networks."
   ]
  },
  {
   "cell_type": "code",
   "execution_count": 3,
   "id": "525d321d-03b1-40d5-900a-dea58424f8c7",
   "metadata": {},
   "outputs": [
    {
     "name": "stderr",
     "output_type": "stream",
     "text": [
      "\n",
      "Usage:  docker network COMMAND\n",
      "\n",
      "Manage networks\n",
      "\n",
      "Commands:\n",
      "  connect     Connect a container to a network\n",
      "  create      Create a network\n",
      "  disconnect  Disconnect a container from a network\n",
      "  inspect     Display detailed information on one or more networks\n",
      "  ls          List networks\n",
      "  prune       Remove all unused networks\n",
      "  rm          Remove one or more networks\n",
      "\n",
      "Run 'docker network COMMAND --help' for more information on a command.\n"
     ]
    }
   ],
   "source": [
    "!docker network"
   ]
  },
  {
   "cell_type": "markdown",
   "id": "520215d5",
   "metadata": {},
   "source": [
    "running `docker network ls` will show us all the names of the networks.\n"
   ]
  },
  {
   "cell_type": "code",
   "execution_count": 4,
   "id": "0b43ead8-1577-43d7-b877-f6e3868e861f",
   "metadata": {},
   "outputs": [
    {
     "name": "stderr",
     "output_type": "stream",
     "text": [
      "request returned Internal Server Error for API route and version http://%2F%2F.%2Fpipe%2FdockerDesktopLinuxEngine/v1.47/networks, check if the server supports the requested API version\n"
     ]
    }
   ],
   "source": [
    "!docker network ls "
   ]
  },
  {
   "cell_type": "markdown",
   "id": "1e1283e9",
   "metadata": {},
   "source": [
    "In the above you can see that there is a none network. \n",
    "\n",
    "When we setup the docker nginx server we did not give it a network\n",
    "\n",
    "lets look for the nginx server"
   ]
  },
  {
   "cell_type": "code",
   "execution_count": 5,
   "id": "42b70960-d6ad-45b7-90ec-086ecfaa3fcf",
   "metadata": {},
   "outputs": [
    {
     "name": "stdout",
     "output_type": "stream",
     "text": [
      "[]\n"
     ]
    },
    {
     "name": "stderr",
     "output_type": "stream",
     "text": [
      "request returned Internal Server Error for API route and version http://%2F%2F.%2Fpipe%2FdockerDesktopLinuxEngine/v1.47/networks/none, check if the server supports the requested API version\n"
     ]
    }
   ],
   "source": [
    "!docker network inspect none "
   ]
  },
  {
   "cell_type": "markdown",
   "id": "c447bfd3",
   "metadata": {},
   "source": [
    "## OK Enough of that nonsense\n",
    "Lets install docker and use the API to do some work this is a python class after all"
   ]
  },
  {
   "cell_type": "code",
   "execution_count": null,
   "id": "b59cdbbe",
   "metadata": {},
   "outputs": [],
   "source": [
    "#!pip install docker"
   ]
  },
  {
   "cell_type": "code",
   "execution_count": null,
   "id": "df37d71d",
   "metadata": {},
   "outputs": [],
   "source": [
    "import docker\n",
    "\n",
    "client = docker.from_env()\n",
    "\n",
    "print(\"Docker version:\", client.version()['Version'])\n"
   ]
  },
  {
   "cell_type": "markdown",
   "id": "2f463d0d",
   "metadata": {},
   "source": [
    "Lets create a quick code to list the containers using the docker client"
   ]
  },
  {
   "cell_type": "code",
   "execution_count": 9,
   "id": "eb64257a",
   "metadata": {},
   "outputs": [
    {
     "name": "stdout",
     "output_type": "stream",
     "text": [
      "adminer - running\n",
      "mysql - running\n"
     ]
    }
   ],
   "source": [
    "def list_running_containers():\n",
    "    containers = client.containers.list(all=True)# list all containers\n",
    "    #containers = client.containers.list() #list only running containers\n",
    "    for container in containers:\n",
    "        print(f\"{container.name} - {container.status}\")\n",
    "\n",
    "list_running_containers()"
   ]
  },
  {
   "cell_type": "markdown",
   "id": "18c4ee6c",
   "metadata": {},
   "source": [
    "Here you can see the running container and no surprise it is the nginx we started before\n"
   ]
  },
  {
   "cell_type": "code",
   "execution_count": 16,
   "id": "32e42e0a",
   "metadata": {},
   "outputs": [
    {
     "ename": "NotFound",
     "evalue": "404 Client Error for http+docker://localnpipe/v1.47/containers/nginx/json: Not Found (\"No such container: nginx\")",
     "output_type": "error",
     "traceback": [
      "\u001b[1;31m---------------------------------------------------------------------------\u001b[0m",
      "\u001b[1;31mHTTPError\u001b[0m                                 Traceback (most recent call last)",
      "File \u001b[1;32mc:\\Users\\mrakl\\anaconda3\\Lib\\site-packages\\docker\\api\\client.py:275\u001b[0m, in \u001b[0;36mAPIClient._raise_for_status\u001b[1;34m(self, response)\u001b[0m\n\u001b[0;32m    274\u001b[0m \u001b[38;5;28;01mtry\u001b[39;00m:\n\u001b[1;32m--> 275\u001b[0m     response\u001b[38;5;241m.\u001b[39mraise_for_status()\n\u001b[0;32m    276\u001b[0m \u001b[38;5;28;01mexcept\u001b[39;00m requests\u001b[38;5;241m.\u001b[39mexceptions\u001b[38;5;241m.\u001b[39mHTTPError \u001b[38;5;28;01mas\u001b[39;00m e:\n",
      "File \u001b[1;32mc:\\Users\\mrakl\\anaconda3\\Lib\\site-packages\\requests\\models.py:1024\u001b[0m, in \u001b[0;36mResponse.raise_for_status\u001b[1;34m(self)\u001b[0m\n\u001b[0;32m   1023\u001b[0m \u001b[38;5;28;01mif\u001b[39;00m http_error_msg:\n\u001b[1;32m-> 1024\u001b[0m     \u001b[38;5;28;01mraise\u001b[39;00m HTTPError(http_error_msg, response\u001b[38;5;241m=\u001b[39m\u001b[38;5;28mself\u001b[39m)\n",
      "\u001b[1;31mHTTPError\u001b[0m: 404 Client Error: Not Found for url: http+docker://localnpipe/v1.47/containers/nginx/json",
      "\nThe above exception was the direct cause of the following exception:\n",
      "\u001b[1;31mNotFound\u001b[0m                                  Traceback (most recent call last)",
      "Cell \u001b[1;32mIn[16], line 10\u001b[0m\n\u001b[0;32m      6\u001b[0m     \u001b[38;5;28;01mfor\u001b[39;00m net_name, net_data \u001b[38;5;129;01min\u001b[39;00m networks\u001b[38;5;241m.\u001b[39mitems():\n\u001b[0;32m      7\u001b[0m         \u001b[38;5;28mprint\u001b[39m(\u001b[38;5;124mf\u001b[39m\u001b[38;5;124m\"\u001b[39m\u001b[38;5;132;01m{\u001b[39;00mcontainer_name\u001b[38;5;132;01m}\u001b[39;00m\u001b[38;5;124m in network \u001b[39m\u001b[38;5;124m'\u001b[39m\u001b[38;5;132;01m{\u001b[39;00mnet_name\u001b[38;5;132;01m}\u001b[39;00m\u001b[38;5;124m'\u001b[39m\u001b[38;5;124m has IP: \u001b[39m\u001b[38;5;132;01m{\u001b[39;00mnet_data[\u001b[38;5;124m'\u001b[39m\u001b[38;5;124mIPAddress\u001b[39m\u001b[38;5;124m'\u001b[39m]\u001b[38;5;132;01m}\u001b[39;00m\u001b[38;5;124m\"\u001b[39m)\n\u001b[1;32m---> 10\u001b[0m show_container_ip(\u001b[38;5;124m\"\u001b[39m\u001b[38;5;124mnginx\u001b[39m\u001b[38;5;124m\"\u001b[39m)\n",
      "Cell \u001b[1;32mIn[16], line 3\u001b[0m, in \u001b[0;36mshow_container_ip\u001b[1;34m(container_name)\u001b[0m\n\u001b[0;32m      2\u001b[0m \u001b[38;5;28;01mdef\u001b[39;00m \u001b[38;5;21mshow_container_ip\u001b[39m(container_name):\n\u001b[1;32m----> 3\u001b[0m     container \u001b[38;5;241m=\u001b[39m client\u001b[38;5;241m.\u001b[39mcontainers\u001b[38;5;241m.\u001b[39mget(container_name)\n\u001b[0;32m      4\u001b[0m     networks \u001b[38;5;241m=\u001b[39m container\u001b[38;5;241m.\u001b[39mattrs[\u001b[38;5;124m'\u001b[39m\u001b[38;5;124mNetworkSettings\u001b[39m\u001b[38;5;124m'\u001b[39m][\u001b[38;5;124m'\u001b[39m\u001b[38;5;124mNetworks\u001b[39m\u001b[38;5;124m'\u001b[39m]\n\u001b[0;32m      6\u001b[0m     \u001b[38;5;28;01mfor\u001b[39;00m net_name, net_data \u001b[38;5;129;01min\u001b[39;00m networks\u001b[38;5;241m.\u001b[39mitems():\n",
      "File \u001b[1;32mc:\\Users\\mrakl\\anaconda3\\Lib\\site-packages\\docker\\models\\containers.py:954\u001b[0m, in \u001b[0;36mContainerCollection.get\u001b[1;34m(self, container_id)\u001b[0m\n\u001b[0;32m    938\u001b[0m \u001b[38;5;28;01mdef\u001b[39;00m \u001b[38;5;21mget\u001b[39m(\u001b[38;5;28mself\u001b[39m, container_id):\n\u001b[0;32m    939\u001b[0m \u001b[38;5;250m    \u001b[39m\u001b[38;5;124;03m\"\"\"\u001b[39;00m\n\u001b[0;32m    940\u001b[0m \u001b[38;5;124;03m    Get a container by name or ID.\u001b[39;00m\n\u001b[0;32m    941\u001b[0m \n\u001b[1;32m   (...)\u001b[0m\n\u001b[0;32m    952\u001b[0m \u001b[38;5;124;03m            If the server returns an error.\u001b[39;00m\n\u001b[0;32m    953\u001b[0m \u001b[38;5;124;03m    \"\"\"\u001b[39;00m\n\u001b[1;32m--> 954\u001b[0m     resp \u001b[38;5;241m=\u001b[39m \u001b[38;5;28mself\u001b[39m\u001b[38;5;241m.\u001b[39mclient\u001b[38;5;241m.\u001b[39mapi\u001b[38;5;241m.\u001b[39minspect_container(container_id)\n\u001b[0;32m    955\u001b[0m     \u001b[38;5;28;01mreturn\u001b[39;00m \u001b[38;5;28mself\u001b[39m\u001b[38;5;241m.\u001b[39mprepare_model(resp)\n",
      "File \u001b[1;32mc:\\Users\\mrakl\\anaconda3\\Lib\\site-packages\\docker\\utils\\decorators.py:19\u001b[0m, in \u001b[0;36mcheck_resource.<locals>.decorator.<locals>.wrapped\u001b[1;34m(self, resource_id, *args, **kwargs)\u001b[0m\n\u001b[0;32m     15\u001b[0m \u001b[38;5;28;01mif\u001b[39;00m \u001b[38;5;129;01mnot\u001b[39;00m resource_id:\n\u001b[0;32m     16\u001b[0m     \u001b[38;5;28;01mraise\u001b[39;00m errors\u001b[38;5;241m.\u001b[39mNullResource(\n\u001b[0;32m     17\u001b[0m         \u001b[38;5;124m'\u001b[39m\u001b[38;5;124mResource ID was not provided\u001b[39m\u001b[38;5;124m'\u001b[39m\n\u001b[0;32m     18\u001b[0m     )\n\u001b[1;32m---> 19\u001b[0m \u001b[38;5;28;01mreturn\u001b[39;00m f(\u001b[38;5;28mself\u001b[39m, resource_id, \u001b[38;5;241m*\u001b[39margs, \u001b[38;5;241m*\u001b[39m\u001b[38;5;241m*\u001b[39mkwargs)\n",
      "File \u001b[1;32mc:\\Users\\mrakl\\anaconda3\\Lib\\site-packages\\docker\\api\\container.py:793\u001b[0m, in \u001b[0;36mContainerApiMixin.inspect_container\u001b[1;34m(self, container)\u001b[0m\n\u001b[0;32m    777\u001b[0m \u001b[38;5;129m@utils\u001b[39m\u001b[38;5;241m.\u001b[39mcheck_resource(\u001b[38;5;124m'\u001b[39m\u001b[38;5;124mcontainer\u001b[39m\u001b[38;5;124m'\u001b[39m)\n\u001b[0;32m    778\u001b[0m \u001b[38;5;28;01mdef\u001b[39;00m \u001b[38;5;21minspect_container\u001b[39m(\u001b[38;5;28mself\u001b[39m, container):\n\u001b[0;32m    779\u001b[0m \u001b[38;5;250m    \u001b[39m\u001b[38;5;124;03m\"\"\"\u001b[39;00m\n\u001b[0;32m    780\u001b[0m \u001b[38;5;124;03m    Identical to the `docker inspect` command, but only for containers.\u001b[39;00m\n\u001b[0;32m    781\u001b[0m \n\u001b[1;32m   (...)\u001b[0m\n\u001b[0;32m    791\u001b[0m \u001b[38;5;124;03m            If the server returns an error.\u001b[39;00m\n\u001b[0;32m    792\u001b[0m \u001b[38;5;124;03m    \"\"\"\u001b[39;00m\n\u001b[1;32m--> 793\u001b[0m     \u001b[38;5;28;01mreturn\u001b[39;00m \u001b[38;5;28mself\u001b[39m\u001b[38;5;241m.\u001b[39m_result(\n\u001b[0;32m    794\u001b[0m         \u001b[38;5;28mself\u001b[39m\u001b[38;5;241m.\u001b[39m_get(\u001b[38;5;28mself\u001b[39m\u001b[38;5;241m.\u001b[39m_url(\u001b[38;5;124m\"\u001b[39m\u001b[38;5;124m/containers/\u001b[39m\u001b[38;5;132;01m{0}\u001b[39;00m\u001b[38;5;124m/json\u001b[39m\u001b[38;5;124m\"\u001b[39m, container)), \u001b[38;5;28;01mTrue\u001b[39;00m\n\u001b[0;32m    795\u001b[0m     )\n",
      "File \u001b[1;32mc:\\Users\\mrakl\\anaconda3\\Lib\\site-packages\\docker\\api\\client.py:281\u001b[0m, in \u001b[0;36mAPIClient._result\u001b[1;34m(self, response, json, binary)\u001b[0m\n\u001b[0;32m    279\u001b[0m \u001b[38;5;28;01mdef\u001b[39;00m \u001b[38;5;21m_result\u001b[39m(\u001b[38;5;28mself\u001b[39m, response, json\u001b[38;5;241m=\u001b[39m\u001b[38;5;28;01mFalse\u001b[39;00m, binary\u001b[38;5;241m=\u001b[39m\u001b[38;5;28;01mFalse\u001b[39;00m):\n\u001b[0;32m    280\u001b[0m     \u001b[38;5;28;01massert\u001b[39;00m \u001b[38;5;129;01mnot\u001b[39;00m (json \u001b[38;5;129;01mand\u001b[39;00m binary)\n\u001b[1;32m--> 281\u001b[0m     \u001b[38;5;28mself\u001b[39m\u001b[38;5;241m.\u001b[39m_raise_for_status(response)\n\u001b[0;32m    283\u001b[0m     \u001b[38;5;28;01mif\u001b[39;00m json:\n\u001b[0;32m    284\u001b[0m         \u001b[38;5;28;01mreturn\u001b[39;00m response\u001b[38;5;241m.\u001b[39mjson()\n",
      "File \u001b[1;32mc:\\Users\\mrakl\\anaconda3\\Lib\\site-packages\\docker\\api\\client.py:277\u001b[0m, in \u001b[0;36mAPIClient._raise_for_status\u001b[1;34m(self, response)\u001b[0m\n\u001b[0;32m    275\u001b[0m     response\u001b[38;5;241m.\u001b[39mraise_for_status()\n\u001b[0;32m    276\u001b[0m \u001b[38;5;28;01mexcept\u001b[39;00m requests\u001b[38;5;241m.\u001b[39mexceptions\u001b[38;5;241m.\u001b[39mHTTPError \u001b[38;5;28;01mas\u001b[39;00m e:\n\u001b[1;32m--> 277\u001b[0m     \u001b[38;5;28;01mraise\u001b[39;00m create_api_error_from_http_exception(e) \u001b[38;5;28;01mfrom\u001b[39;00m \u001b[38;5;21;01me\u001b[39;00m\n",
      "File \u001b[1;32mc:\\Users\\mrakl\\anaconda3\\Lib\\site-packages\\docker\\errors.py:39\u001b[0m, in \u001b[0;36mcreate_api_error_from_http_exception\u001b[1;34m(e)\u001b[0m\n\u001b[0;32m     37\u001b[0m     \u001b[38;5;28;01melse\u001b[39;00m:\n\u001b[0;32m     38\u001b[0m         \u001b[38;5;28mcls\u001b[39m \u001b[38;5;241m=\u001b[39m NotFound\n\u001b[1;32m---> 39\u001b[0m \u001b[38;5;28;01mraise\u001b[39;00m \u001b[38;5;28mcls\u001b[39m(e, response\u001b[38;5;241m=\u001b[39mresponse, explanation\u001b[38;5;241m=\u001b[39mexplanation) \u001b[38;5;28;01mfrom\u001b[39;00m \u001b[38;5;21;01me\u001b[39;00m\n",
      "\u001b[1;31mNotFound\u001b[0m: 404 Client Error for http+docker://localnpipe/v1.47/containers/nginx/json: Not Found (\"No such container: nginx\")"
     ]
    }
   ],
   "source": [
    "#lest identify the network of the nginx container\n",
    "def show_container_ip(container_name):\n",
    "    container = client.containers.get(container_name)\n",
    "    networks = container.attrs['NetworkSettings']['Networks']\n",
    "    \n",
    "    for net_name, net_data in networks.items():\n",
    "        print(f\"{container_name} in network '{net_name}' has IP: {net_data['IPAddress']}\")\n",
    "\n",
    "\n",
    "show_container_ip(\"nginx\")\n"
   ]
  },
  {
   "cell_type": "markdown",
   "id": "1748a68f",
   "metadata": {},
   "source": [
    "again no surprise there is no IP address as it does not have a network. "
   ]
  },
  {
   "cell_type": "markdown",
   "id": "27f669c9",
   "metadata": {},
   "source": [
    "### ok I lied back to creating more stuff though the CLI"
   ]
  },
  {
   "cell_type": "code",
   "execution_count": 6,
   "id": "8689fe8e-6afa-48a1-9c86-e05cf5f0ad51",
   "metadata": {},
   "outputs": [
    {
     "name": "stderr",
     "output_type": "stream",
     "text": [
      "docker: request returned Internal Server Error for API route and version http://%2F%2F.%2Fpipe%2FdockerDesktopLinuxEngine/_ping, check if the server supports the requested API version.\n",
      "See 'docker run --help'.\n"
     ]
    }
   ],
   "source": [
    "#setup another container for mysql\n",
    "!docker run -d --name mysql -p 3306:3306 -e MYSQL_ROOT_PASSWORD=1 mysql:8\n",
    "#Note the -d means detached mode so no container is using created just the MySQL database "
   ]
  },
  {
   "cell_type": "markdown",
   "id": "b312951a-708d-4e69-80b7-9d37b5bd10fc",
   "metadata": {},
   "source": [
    "## The following needs to be run in the terminal"
   ]
  },
  {
   "cell_type": "code",
   "execution_count": 7,
   "id": "c1b77a0a-53a2-44a7-af22-8a4113d80666",
   "metadata": {},
   "outputs": [
    {
     "name": "stderr",
     "output_type": "stream",
     "text": [
      "docker: request returned Internal Server Error for API route and version http://%2F%2F.%2Fpipe%2FdockerDesktopLinuxEngine/_ping, check if the server supports the requested API version.\n",
      "See 'docker run --help'.\n"
     ]
    }
   ],
   "source": [
    "!docker run -d --name adminer -p 8080:8080 adminer\n"
   ]
  },
  {
   "cell_type": "markdown",
   "id": "814b761c",
   "metadata": {},
   "source": [
    "Run the following each in there own terminal\n",
    "\n",
    "``` bash\n",
    "docker logs -f mysql\n",
    "docker logs -f adminer\n",
    "```"
   ]
  },
  {
   "cell_type": "code",
   "execution_count": null,
   "id": "d3295ddc-40c8-4dc3-bac5-f449cedd6a1c",
   "metadata": {},
   "outputs": [],
   "source": [
    "#!docker inspect mysql | grep -n1 \"IPAddress\\\":\"\n",
    "# or\n",
    "print(\"-\"*30)\n",
    "show_container_ip(\"mysql\")\n"
   ]
  },
  {
   "cell_type": "code",
   "execution_count": null,
   "id": "d245598f-5982-448f-826b-dcf2a02ea142",
   "metadata": {},
   "outputs": [],
   "source": [
    "#!docker inspect adminer| grep  -n1 \"IPAddress\\\":\"\n",
    "# or\n",
    "print(\"-\"*30)\n",
    "show_container_ip(\"adminer\")\n"
   ]
  },
  {
   "cell_type": "markdown",
   "id": "0e8d4efa",
   "metadata": {},
   "source": [
    "### Lets do a bit of cleanup \n",
    "\n",
    "``` bash\n",
    "#lets remove our old container\n",
    "!docker stop adminer\n",
    "!docker rm adminer\n",
    "!docker stop mysql\n",
    "!docker rm mysql\n",
    "!docker stop nginx \n",
    "!docker rm nginx\n",
    "```"
   ]
  },
  {
   "cell_type": "code",
   "execution_count": null,
   "id": "8b58f533",
   "metadata": {},
   "outputs": [],
   "source": [
    "def clean_containers():\n",
    "    containers = client.containers.list(all=True)\n",
    "    if not containers:\n",
    "        print(\"No containers to clean.\")\n",
    "        return\n",
    "    \n",
    "    for container in containers:\n",
    "        container.stop()\n",
    "        container.reload()\n",
    "        if container.status == 'exited':\n",
    "            print(f\"Removing {container.name}\")\n",
    "            container.remove()\n",
    "\n",
    "list_running_containers()\n",
    "\n",
    "clean_containers()\n"
   ]
  },
  {
   "cell_type": "markdown",
   "id": "083fe448-2d62-42cc-a4bc-f9b96343bd0f",
   "metadata": {},
   "source": [
    "## Setting up the network"
   ]
  },
  {
   "cell_type": "code",
   "execution_count": null,
   "id": "9c67866b-8c5a-4d3f-8616-23981e020e7e",
   "metadata": {},
   "outputs": [],
   "source": [
    "# Create a network called yourNetwork using the following command\n",
    "\n",
    "!docker network create yourNetwork"
   ]
  },
  {
   "cell_type": "code",
   "execution_count": null,
   "id": "98f9b37a-eeca-4c94-b793-67be3c732783",
   "metadata": {},
   "outputs": [],
   "source": [
    "!docker network inspect yourNetwork"
   ]
  },
  {
   "cell_type": "code",
   "execution_count": null,
   "id": "c60b5acb-99e9-42dd-83ff-5f808a1c7223",
   "metadata": {},
   "outputs": [],
   "source": [
    "!docker run -d --network yourNetwork --name mysql -p 3306:3306 -e MYSQL_ROOT_PASSWORD=1 mysql:8\n"
   ]
  },
  {
   "cell_type": "code",
   "execution_count": 3,
   "id": "071b6c18-6c25-45ee-bddb-2745386107a7",
   "metadata": {},
   "outputs": [
    {
     "name": "stderr",
     "output_type": "stream",
     "text": [
      "docker: Error response from daemon: Conflict. The container name \"/adminer\" is already in use by container \"d96170b4bdc309304da5e504bdb3dffc81f90e944abc9dd96f44b0e12a9ea11f\". You have to remove (or rename) that container to be able to reuse that name.\n",
      "See 'docker run --help'.\n"
     ]
    }
   ],
   "source": [
    "!docker run -d --network yourNetwork --name adminer -p 8080:8080 adminer"
   ]
  },
  {
   "cell_type": "code",
   "execution_count": null,
   "id": "a5fc6246-b507-4b1f-8b58-1e6f9994177c",
   "metadata": {},
   "outputs": [],
   "source": [
    "#Now lets connect the adminer\n",
    "!docker network connect yourNetwork adminer"
   ]
  },
  {
   "cell_type": "code",
   "execution_count": null,
   "id": "7cf0eb53-203c-4492-b5d6-2a79a70b1880",
   "metadata": {},
   "outputs": [],
   "source": [
    "#!docker inspect mysql |grep -C2 \" \\\"Networks\\\"\"\n",
    "#!docker inspect mysql |grep -A9 \" \\\"Networks\\\"\"| grep \" \\\"IPAddress\\\"\"\n",
    "#or\n",
    "print(\"-\"*30)\n",
    "show_container_ip(\"mysql\")"
   ]
  },
  {
   "cell_type": "code",
   "execution_count": null,
   "id": "b992ac2d-0dd7-4111-b7be-b174de9c6bec",
   "metadata": {},
   "outputs": [],
   "source": [
    "#!docker inspect adminer| grep -A2 \" \\\"Networks\\\"\"\n",
    "#!docker inspect adminer| grep -A9 \" \\\"Networks\\\"\"| grep \" \\\"IPAddress\\\"\"\n",
    "#!ping -c 1 172.18.0.3\n",
    "#or\n",
    "print(\"-\"*30)\n",
    "show_container_ip(\"adminer\")"
   ]
  },
  {
   "cell_type": "markdown",
   "id": "b6371541-7400-4de9-8274-4784ce7ca815",
   "metadata": {},
   "source": [
    "# LAB \n",
    "As a reminder you should be submitting to me 2 files. \n",
    "- _YourName_Lab 09.ipynb\n",
    "    - this is your lab report\n",
    "- _YourName__\\<name of your script\\>.py\n",
    "\n",
    "## Part 1 - warm up\n",
    "\n",
    "Now that you have 2 containers up and running and know there connected. Create a python script that will check to see if the IP addresses of the containers are up and running. \n",
    "\n"
   ]
  },
  {
   "cell_type": "code",
   "execution_count": 1,
   "id": "c7dd0f35",
   "metadata": {},
   "outputs": [
    {
     "name": "stderr",
     "output_type": "stream",
     "text": [
      "c:\\Users\\mrakl\\anaconda3\\Lib\\site-packages\\paramiko\\pkey.py:82: CryptographyDeprecationWarning: TripleDES has been moved to cryptography.hazmat.decrepit.ciphers.algorithms.TripleDES and will be removed from this module in 48.0.0.\n",
      "  \"cipher\": algorithms.TripleDES,\n",
      "c:\\Users\\mrakl\\anaconda3\\Lib\\site-packages\\paramiko\\transport.py:219: CryptographyDeprecationWarning: Blowfish has been moved to cryptography.hazmat.decrepit.ciphers.algorithms.Blowfish and will be removed from this module in 45.0.0.\n",
      "  \"class\": algorithms.Blowfish,\n",
      "c:\\Users\\mrakl\\anaconda3\\Lib\\site-packages\\paramiko\\transport.py:243: CryptographyDeprecationWarning: TripleDES has been moved to cryptography.hazmat.decrepit.ciphers.algorithms.TripleDES and will be removed from this module in 48.0.0.\n",
      "  \"class\": algorithms.TripleDES,\n"
     ]
    },
    {
     "ename": "DockerException",
     "evalue": "Error while fetching server API version: 500 Server Error for http+docker://localnpipe/version: Internal Server Error",
     "output_type": "error",
     "traceback": [
      "\u001b[1;31m---------------------------------------------------------------------------\u001b[0m",
      "\u001b[1;31mHTTPError\u001b[0m                                 Traceback (most recent call last)",
      "File \u001b[1;32mc:\\Users\\mrakl\\anaconda3\\Lib\\site-packages\\docker\\api\\client.py:275\u001b[0m, in \u001b[0;36mAPIClient._raise_for_status\u001b[1;34m(self, response)\u001b[0m\n\u001b[0;32m    274\u001b[0m \u001b[38;5;28;01mtry\u001b[39;00m:\n\u001b[1;32m--> 275\u001b[0m     response\u001b[38;5;241m.\u001b[39mraise_for_status()\n\u001b[0;32m    276\u001b[0m \u001b[38;5;28;01mexcept\u001b[39;00m requests\u001b[38;5;241m.\u001b[39mexceptions\u001b[38;5;241m.\u001b[39mHTTPError \u001b[38;5;28;01mas\u001b[39;00m e:\n",
      "File \u001b[1;32mc:\\Users\\mrakl\\anaconda3\\Lib\\site-packages\\requests\\models.py:1024\u001b[0m, in \u001b[0;36mResponse.raise_for_status\u001b[1;34m(self)\u001b[0m\n\u001b[0;32m   1023\u001b[0m \u001b[38;5;28;01mif\u001b[39;00m http_error_msg:\n\u001b[1;32m-> 1024\u001b[0m     \u001b[38;5;28;01mraise\u001b[39;00m HTTPError(http_error_msg, response\u001b[38;5;241m=\u001b[39m\u001b[38;5;28mself\u001b[39m)\n",
      "\u001b[1;31mHTTPError\u001b[0m: 500 Server Error: Internal Server Error for url: http+docker://localnpipe/version",
      "\nThe above exception was the direct cause of the following exception:\n",
      "\u001b[1;31mAPIError\u001b[0m                                  Traceback (most recent call last)",
      "File \u001b[1;32mc:\\Users\\mrakl\\anaconda3\\Lib\\site-packages\\docker\\api\\client.py:223\u001b[0m, in \u001b[0;36mAPIClient._retrieve_server_version\u001b[1;34m(self)\u001b[0m\n\u001b[0;32m    222\u001b[0m \u001b[38;5;28;01mtry\u001b[39;00m:\n\u001b[1;32m--> 223\u001b[0m     \u001b[38;5;28;01mreturn\u001b[39;00m \u001b[38;5;28mself\u001b[39m\u001b[38;5;241m.\u001b[39mversion(api_version\u001b[38;5;241m=\u001b[39m\u001b[38;5;28;01mFalse\u001b[39;00m)[\u001b[38;5;124m\"\u001b[39m\u001b[38;5;124mApiVersion\u001b[39m\u001b[38;5;124m\"\u001b[39m]\n\u001b[0;32m    224\u001b[0m \u001b[38;5;28;01mexcept\u001b[39;00m \u001b[38;5;167;01mKeyError\u001b[39;00m \u001b[38;5;28;01mas\u001b[39;00m ke:\n",
      "File \u001b[1;32mc:\\Users\\mrakl\\anaconda3\\Lib\\site-packages\\docker\\api\\daemon.py:181\u001b[0m, in \u001b[0;36mDaemonApiMixin.version\u001b[1;34m(self, api_version)\u001b[0m\n\u001b[0;32m    180\u001b[0m url \u001b[38;5;241m=\u001b[39m \u001b[38;5;28mself\u001b[39m\u001b[38;5;241m.\u001b[39m_url(\u001b[38;5;124m\"\u001b[39m\u001b[38;5;124m/version\u001b[39m\u001b[38;5;124m\"\u001b[39m, versioned_api\u001b[38;5;241m=\u001b[39mapi_version)\n\u001b[1;32m--> 181\u001b[0m \u001b[38;5;28;01mreturn\u001b[39;00m \u001b[38;5;28mself\u001b[39m\u001b[38;5;241m.\u001b[39m_result(\u001b[38;5;28mself\u001b[39m\u001b[38;5;241m.\u001b[39m_get(url), json\u001b[38;5;241m=\u001b[39m\u001b[38;5;28;01mTrue\u001b[39;00m)\n",
      "File \u001b[1;32mc:\\Users\\mrakl\\anaconda3\\Lib\\site-packages\\docker\\api\\client.py:281\u001b[0m, in \u001b[0;36mAPIClient._result\u001b[1;34m(self, response, json, binary)\u001b[0m\n\u001b[0;32m    280\u001b[0m \u001b[38;5;28;01massert\u001b[39;00m \u001b[38;5;129;01mnot\u001b[39;00m (json \u001b[38;5;129;01mand\u001b[39;00m binary)\n\u001b[1;32m--> 281\u001b[0m \u001b[38;5;28mself\u001b[39m\u001b[38;5;241m.\u001b[39m_raise_for_status(response)\n\u001b[0;32m    283\u001b[0m \u001b[38;5;28;01mif\u001b[39;00m json:\n",
      "File \u001b[1;32mc:\\Users\\mrakl\\anaconda3\\Lib\\site-packages\\docker\\api\\client.py:277\u001b[0m, in \u001b[0;36mAPIClient._raise_for_status\u001b[1;34m(self, response)\u001b[0m\n\u001b[0;32m    276\u001b[0m \u001b[38;5;28;01mexcept\u001b[39;00m requests\u001b[38;5;241m.\u001b[39mexceptions\u001b[38;5;241m.\u001b[39mHTTPError \u001b[38;5;28;01mas\u001b[39;00m e:\n\u001b[1;32m--> 277\u001b[0m     \u001b[38;5;28;01mraise\u001b[39;00m create_api_error_from_http_exception(e) \u001b[38;5;28;01mfrom\u001b[39;00m \u001b[38;5;21;01me\u001b[39;00m\n",
      "File \u001b[1;32mc:\\Users\\mrakl\\anaconda3\\Lib\\site-packages\\docker\\errors.py:39\u001b[0m, in \u001b[0;36mcreate_api_error_from_http_exception\u001b[1;34m(e)\u001b[0m\n\u001b[0;32m     38\u001b[0m         \u001b[38;5;28mcls\u001b[39m \u001b[38;5;241m=\u001b[39m NotFound\n\u001b[1;32m---> 39\u001b[0m \u001b[38;5;28;01mraise\u001b[39;00m \u001b[38;5;28mcls\u001b[39m(e, response\u001b[38;5;241m=\u001b[39mresponse, explanation\u001b[38;5;241m=\u001b[39mexplanation) \u001b[38;5;28;01mfrom\u001b[39;00m \u001b[38;5;21;01me\u001b[39;00m\n",
      "\u001b[1;31mAPIError\u001b[0m: 500 Server Error for http+docker://localnpipe/version: Internal Server Error",
      "\nThe above exception was the direct cause of the following exception:\n",
      "\u001b[1;31mDockerException\u001b[0m                           Traceback (most recent call last)",
      "Cell \u001b[1;32mIn[1], line 3\u001b[0m\n\u001b[0;32m      1\u001b[0m \u001b[38;5;28;01mimport\u001b[39;00m \u001b[38;5;21;01mdocker\u001b[39;00m\n\u001b[1;32m----> 3\u001b[0m client \u001b[38;5;241m=\u001b[39m docker\u001b[38;5;241m.\u001b[39mfrom_env()\n\u001b[0;32m      4\u001b[0m \u001b[38;5;28mprint\u001b[39m(\u001b[38;5;124m\"\u001b[39m\u001b[38;5;124mDocker version:\u001b[39m\u001b[38;5;124m\"\u001b[39m, client\u001b[38;5;241m.\u001b[39mversion()[\u001b[38;5;124m'\u001b[39m\u001b[38;5;124mVersion\u001b[39m\u001b[38;5;124m'\u001b[39m])\n\u001b[0;32m      6\u001b[0m \u001b[38;5;66;03m# given example code\u001b[39;00m\n",
      "File \u001b[1;32mc:\\Users\\mrakl\\anaconda3\\Lib\\site-packages\\docker\\client.py:94\u001b[0m, in \u001b[0;36mDockerClient.from_env\u001b[1;34m(cls, **kwargs)\u001b[0m\n\u001b[0;32m     92\u001b[0m version \u001b[38;5;241m=\u001b[39m kwargs\u001b[38;5;241m.\u001b[39mpop(\u001b[38;5;124m'\u001b[39m\u001b[38;5;124mversion\u001b[39m\u001b[38;5;124m'\u001b[39m, \u001b[38;5;28;01mNone\u001b[39;00m)\n\u001b[0;32m     93\u001b[0m use_ssh_client \u001b[38;5;241m=\u001b[39m kwargs\u001b[38;5;241m.\u001b[39mpop(\u001b[38;5;124m'\u001b[39m\u001b[38;5;124muse_ssh_client\u001b[39m\u001b[38;5;124m'\u001b[39m, \u001b[38;5;28;01mFalse\u001b[39;00m)\n\u001b[1;32m---> 94\u001b[0m \u001b[38;5;28;01mreturn\u001b[39;00m \u001b[38;5;28mcls\u001b[39m(\n\u001b[0;32m     95\u001b[0m     timeout\u001b[38;5;241m=\u001b[39mtimeout,\n\u001b[0;32m     96\u001b[0m     max_pool_size\u001b[38;5;241m=\u001b[39mmax_pool_size,\n\u001b[0;32m     97\u001b[0m     version\u001b[38;5;241m=\u001b[39mversion,\n\u001b[0;32m     98\u001b[0m     use_ssh_client\u001b[38;5;241m=\u001b[39muse_ssh_client,\n\u001b[0;32m     99\u001b[0m     \u001b[38;5;241m*\u001b[39m\u001b[38;5;241m*\u001b[39mkwargs_from_env(\u001b[38;5;241m*\u001b[39m\u001b[38;5;241m*\u001b[39mkwargs)\n\u001b[0;32m    100\u001b[0m )\n",
      "File \u001b[1;32mc:\\Users\\mrakl\\anaconda3\\Lib\\site-packages\\docker\\client.py:45\u001b[0m, in \u001b[0;36mDockerClient.__init__\u001b[1;34m(self, *args, **kwargs)\u001b[0m\n\u001b[0;32m     44\u001b[0m \u001b[38;5;28;01mdef\u001b[39;00m \u001b[38;5;21m__init__\u001b[39m(\u001b[38;5;28mself\u001b[39m, \u001b[38;5;241m*\u001b[39margs, \u001b[38;5;241m*\u001b[39m\u001b[38;5;241m*\u001b[39mkwargs):\n\u001b[1;32m---> 45\u001b[0m     \u001b[38;5;28mself\u001b[39m\u001b[38;5;241m.\u001b[39mapi \u001b[38;5;241m=\u001b[39m APIClient(\u001b[38;5;241m*\u001b[39margs, \u001b[38;5;241m*\u001b[39m\u001b[38;5;241m*\u001b[39mkwargs)\n",
      "File \u001b[1;32mc:\\Users\\mrakl\\anaconda3\\Lib\\site-packages\\docker\\api\\client.py:207\u001b[0m, in \u001b[0;36mAPIClient.__init__\u001b[1;34m(self, base_url, version, timeout, tls, user_agent, num_pools, credstore_env, use_ssh_client, max_pool_size)\u001b[0m\n\u001b[0;32m    202\u001b[0m \u001b[38;5;66;03m# version detection needs to be after unix adapter mounting\u001b[39;00m\n\u001b[0;32m    203\u001b[0m \u001b[38;5;28;01mif\u001b[39;00m version \u001b[38;5;129;01mis\u001b[39;00m \u001b[38;5;28;01mNone\u001b[39;00m \u001b[38;5;129;01mor\u001b[39;00m (\u001b[38;5;28misinstance\u001b[39m(\n\u001b[0;32m    204\u001b[0m                         version,\n\u001b[0;32m    205\u001b[0m                         \u001b[38;5;28mstr\u001b[39m\n\u001b[0;32m    206\u001b[0m                         ) \u001b[38;5;129;01mand\u001b[39;00m version\u001b[38;5;241m.\u001b[39mlower() \u001b[38;5;241m==\u001b[39m \u001b[38;5;124m'\u001b[39m\u001b[38;5;124mauto\u001b[39m\u001b[38;5;124m'\u001b[39m):\n\u001b[1;32m--> 207\u001b[0m     \u001b[38;5;28mself\u001b[39m\u001b[38;5;241m.\u001b[39m_version \u001b[38;5;241m=\u001b[39m \u001b[38;5;28mself\u001b[39m\u001b[38;5;241m.\u001b[39m_retrieve_server_version()\n\u001b[0;32m    208\u001b[0m \u001b[38;5;28;01melse\u001b[39;00m:\n\u001b[0;32m    209\u001b[0m     \u001b[38;5;28mself\u001b[39m\u001b[38;5;241m.\u001b[39m_version \u001b[38;5;241m=\u001b[39m version\n",
      "File \u001b[1;32mc:\\Users\\mrakl\\anaconda3\\Lib\\site-packages\\docker\\api\\client.py:230\u001b[0m, in \u001b[0;36mAPIClient._retrieve_server_version\u001b[1;34m(self)\u001b[0m\n\u001b[0;32m    225\u001b[0m     \u001b[38;5;28;01mraise\u001b[39;00m DockerException(\n\u001b[0;32m    226\u001b[0m         \u001b[38;5;124m'\u001b[39m\u001b[38;5;124mInvalid response from docker daemon: key \u001b[39m\u001b[38;5;124m\"\u001b[39m\u001b[38;5;124mApiVersion\u001b[39m\u001b[38;5;124m\"\u001b[39m\u001b[38;5;124m'\u001b[39m\n\u001b[0;32m    227\u001b[0m         \u001b[38;5;124m'\u001b[39m\u001b[38;5;124m is missing.\u001b[39m\u001b[38;5;124m'\u001b[39m\n\u001b[0;32m    228\u001b[0m     ) \u001b[38;5;28;01mfrom\u001b[39;00m \u001b[38;5;21;01mke\u001b[39;00m\n\u001b[0;32m    229\u001b[0m \u001b[38;5;28;01mexcept\u001b[39;00m \u001b[38;5;167;01mException\u001b[39;00m \u001b[38;5;28;01mas\u001b[39;00m e:\n\u001b[1;32m--> 230\u001b[0m     \u001b[38;5;28;01mraise\u001b[39;00m DockerException(\n\u001b[0;32m    231\u001b[0m         \u001b[38;5;124mf\u001b[39m\u001b[38;5;124m'\u001b[39m\u001b[38;5;124mError while fetching server API version: \u001b[39m\u001b[38;5;132;01m{\u001b[39;00me\u001b[38;5;132;01m}\u001b[39;00m\u001b[38;5;124m'\u001b[39m\n\u001b[0;32m    232\u001b[0m     ) \u001b[38;5;28;01mfrom\u001b[39;00m \u001b[38;5;21;01me\u001b[39;00m\n",
      "\u001b[1;31mDockerException\u001b[0m: Error while fetching server API version: 500 Server Error for http+docker://localnpipe/version: Internal Server Error"
     ]
    }
   ],
   "source": [
    "import docker\n",
    "\n",
    "client = docker.from_env()\n",
    "print(\"Docker version:\", client.version()['Version'])\n",
    "\n",
    "# given example code\n",
    "def show_container_ip(container_name):\n",
    "    container = client.containers.get(container_name)\n",
    "    networks = container.attrs['NetworkSettings']['Networks']\n",
    "    \n",
    "    for net_name, net_data in networks.items():\n",
    "        print(f\"{container_name} in network '{net_name}' has IP: {net_data['IPAddress']}\")\n",
    "\n",
    "\n",
    "\n",
    "def check_all_containers_IP():\n",
    "    containers = client.containers.list(all=True)# list all containers\n",
    "\n",
    "    for container in containers:\n",
    "        show_container_ip(container_name= container.name)\n",
    "\n",
    "check_all_containers_IP()\n",
    "\n",
    "\n"
   ]
  },
  {
   "cell_type": "markdown",
   "id": "8118578f",
   "metadata": {},
   "source": [
    "\n",
    "## Part 2\n",
    "Continue with the above code and create a script that will:\n",
    "- Relaunch a container if it is ever shutdown. \n",
    "- Perform a maintenance restart after 1 day has passed. \n",
    "- Monitor the log files and outputs errors and warnings.\n",
    "\n",
    "your python file does not need to be in a docker container\n",
    "\n",
    "\n",
    "https://docs.docker.com/engine/api/sdk/examples/\n",
    "\n"
   ]
  },
  {
   "cell_type": "code",
   "execution_count": null,
   "id": "da809287-9d9a-4c74-8608-98eeef8a4924",
   "metadata": {},
   "outputs": [
    {
     "name": "stdout",
     "output_type": "stream",
     "text": [
      "Docker version: 27.5.1\n",
      "adminer in network 'yourNetwork' has IP: 172.18.0.3\n",
      "mysql in network 'yourNetwork' has IP: 172.18.0.2\n",
      "error: <class 'Exception'>\n"
     ]
    }
   ],
   "source": [
    "import docker\n",
    "import time\n",
    "\n",
    "client = docker.from_env()\n",
    "print(\"Docker version:\", client.version()['Version'])\n",
    "\n",
    "# given example code\n",
    "def show_container_ip(container_name):\n",
    "    container = client.containers.get(container_name)\n",
    "    networks = container.attrs['NetworkSettings']['Networks']\n",
    "    \n",
    "    for net_name, net_data in networks.items():\n",
    "        print(f\"{container_name} in network '{net_name}' has IP: {net_data['IPAddress']}\")\n",
    "\n",
    "\n",
    "\n",
    "def check_all_containers_IP():\n",
    "    containers = client.containers.list(all=True)# list all containers\n",
    "\n",
    "    for container in containers:\n",
    "        show_container_ip(container_name= container.name)\n",
    "\n",
    "check_all_containers_IP()\n",
    "\n",
    "\n",
    "\n",
    "def adminer_keep_running():\n",
    "    \n",
    "    try:\n",
    "        while(True):\n",
    "            if container.status != \"running\":\n",
    "                client.containers.run(container)\n",
    "                print(f\"restarted {container}\")\n",
    "            else:\n",
    "                print(f\"{container} is running\")\n",
    "            time.sleep(.1)\n",
    "\n",
    "    except KeyboardInterrupt:\n",
    "        print(\"keyboard interrupt\")\n",
    "    except Exception as e:\n",
    "        print(f\"error: {Exception}\")\n",
    "\n",
    "\n",
    "adminer_keep_running()"
   ]
  },
  {
   "cell_type": "code",
   "execution_count": null,
   "id": "6623de55",
   "metadata": {},
   "outputs": [
    {
     "name": "stdout",
     "output_type": "stream",
     "text": [
      "<Container: d96170b4bdc3>\n",
      "<Container: 1b1d3e07e50f>\n"
     ]
    }
   ],
   "source": [
    "containers = client.containers.list(all=True)# list all containers\n",
    "for container in containers:\n",
    "    print(container)\n",
    "\n",
    "def find_name_for_process(container_name):\n",
    "    containers = client.containers.list(all=True)\n",
    "    for container in containers:\n",
    "        if container_name == container.name:\n"
   ]
  },
  {
   "cell_type": "code",
   "execution_count": null,
   "id": "966aa254",
   "metadata": {},
   "outputs": [],
   "source": []
  }
 ],
 "metadata": {
  "kernelspec": {
   "display_name": "base",
   "language": "python",
   "name": "python3"
  },
  "language_info": {
   "codemirror_mode": {
    "name": "ipython",
    "version": 3
   },
   "file_extension": ".py",
   "mimetype": "text/x-python",
   "name": "python",
   "nbconvert_exporter": "python",
   "pygments_lexer": "ipython3",
   "version": "3.12.7"
  }
 },
 "nbformat": 4,
 "nbformat_minor": 5
}
