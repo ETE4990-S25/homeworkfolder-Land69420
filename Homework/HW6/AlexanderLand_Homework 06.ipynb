{
 "cells": [
  {
   "cell_type": "markdown",
   "metadata": {},
   "source": [
    "Alexander Land"
   ]
  },
  {
   "cell_type": "markdown",
   "metadata": {},
   "source": [
    "## Objective:\n",
    "The objective of this assignment is to practice using Functional Programing.\n",
    "\n",
    "## Instructions:\n",
    "\n",
    "Using everything we learned to day about Functional Programing, lambda and itters create one of each of the following:\n",
    "-  Basic Lambda Function\n",
    "    - Create a lambda function that takes one arguments and returns even or odd.\n",
    "- Advanced lambda Function\n",
    "    - Create a lambda function that takes a list and returns their sum \n",
    "- Sorting with Lambda\n",
    "- Filtering with Lambda - `filter()` \n",
    "- Mapping with Lambda - `map()`\n",
    "- Reducing with Lambda -  `reduce()` \n",
    "- Enumerate with or without Lambda - `enumerate()`\n",
    "- zip with or without lambda (may combine enumerate like in class) - `zip()`\n",
    "\n",
    "Submit the file as a .py \n",
    "\n",
    "\n"
   ]
  },
  {
   "cell_type": "code",
   "execution_count": null,
   "metadata": {},
   "outputs": [
    {
     "name": "stdout",
     "output_type": "stream",
     "text": [
      "even\n",
      "odd\n",
      "10\n",
      "[12, 32, 34, 45]\n",
      "[5, 7, 11, 31]\n",
      "[2, 4, 6, 8, 10]\n",
      "69\n",
      "[(1, 'this'), (2, 'is'), (3, 'a'), (4, 'list'), (5, 'of'), (6, 'words'), (7, 'to'), (8, 'be'), (9, 'numbered')]\n",
      "[('list', 'sunflower'), ('of', 'tiger'), ('words', 'ocean'), ('to', 'mountain'), ('be', 'keyboard'), ('associated', 'puzzle'), ('with', 'guitar'), ('another', 'starlight'), ('list', 'whisper'), ('of', 'universe'), ('words', 'adventure')]\n"
     ]
    }
   ],
   "source": [
    "import math\n",
    "import functools\n",
    "\n",
    "#even odd lambda function\n",
    "evenodd = lambda x: \"odd\" if x%2 else \"even\"\n",
    "\n",
    "print(evenodd(2))\n",
    "print(evenodd(3))\n",
    "\n",
    "\n",
    "#lambda function that sums a list\n",
    "list_to_sum = lambda alist: sum(alist)\n",
    "\n",
    "print(list_to_sum([1,2,3,4]))\n",
    "\n",
    "#lambda function that sorts a list\n",
    "sorted_list = lambda alist: sorted(alist)\n",
    "\n",
    "print(sorted_list([45,34,32,12]))\n",
    "\n",
    "\n",
    "#lambda function that calls filter and filter calls a function that returns true or false to filter a list\n",
    "#I stole the is_prime() off the internet. just needed something that gives true or false.\n",
    "def is_prime(number):\n",
    "    if number <= 1:\n",
    "        return False\n",
    "    for i in range(2, int(math.sqrt(number)) + 1):\n",
    "        if number % i == 0:\n",
    "            return False\n",
    "    return True\n",
    "\n",
    "filtered_list = lambda alist: list(filter(is_prime,alist))\n",
    "\n",
    "print(filtered_list([1,5,6,7,8,11,31]))\n",
    "\n",
    "\n",
    "\n",
    "#lambda function that uses map, it being a lambda is completely unecessay and just the map would do but I put it in a lambda\n",
    "def times2(number):\n",
    "    return number * 2\n",
    "\n",
    "list_times_2 = lambda alist: list(map(times2,alist))\n",
    "print(list_times_2([1,2,3,4,5]))\n",
    "\n",
    "\n",
    "#using lambda function and reduce to find the sum of a list\n",
    "list_to_sum_with_reduce = lambda alist: functools.reduce(lambda x, y: x + y, alist)\n",
    "\n",
    "print(list_to_sum_with_reduce([1,2,4,56,6]))\n",
    "\n",
    "#lambda function using enumerate\n",
    "# associates each item with a number\n",
    "numbered_items_in_list = lambda alist:list(enumerate(alist, start = 1))\n",
    "\n",
    "print(numbered_items_in_list([\"this\",\"is\",\"a\",\"list\",\"of\",\"words\",\"to\",\"be\",\"numbered\"]))\n",
    "\n",
    "#zip with lambda function\n",
    "zip_two_lists = lambda alist, blist: list(zip(alist,blist))\n",
    "\n",
    "sentence = ['list', 'of', 'words', 'to', 'be', 'associated', 'with', 'another', 'list', 'of', 'words']\n",
    "randwords = ['sunflower', 'tiger', 'ocean', 'mountain', 'keyboard', 'puzzle', 'guitar', 'starlight', 'whisper', 'universe', 'adventure']\n",
    "print(zip_two_lists(sentence,randwords))\n",
    "\n"
   ]
  },
  {
   "cell_type": "code",
   "execution_count": null,
   "metadata": {},
   "outputs": [],
   "source": []
  },
  {
   "cell_type": "code",
   "execution_count": null,
   "metadata": {},
   "outputs": [],
   "source": []
  }
 ],
 "metadata": {
  "kernelspec": {
   "display_name": "base",
   "language": "python",
   "name": "python3"
  },
  "language_info": {
   "codemirror_mode": {
    "name": "ipython",
    "version": 3
   },
   "file_extension": ".py",
   "mimetype": "text/x-python",
   "name": "python",
   "nbconvert_exporter": "python",
   "pygments_lexer": "ipython3",
   "version": "3.12.7"
  }
 },
 "nbformat": 4,
 "nbformat_minor": 2
}
