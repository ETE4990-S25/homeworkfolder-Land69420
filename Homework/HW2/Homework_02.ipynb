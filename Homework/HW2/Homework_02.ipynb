{
 "cells": [
  {
   "cell_type": "markdown",
   "id": "21c6150b-c2f3-4659-9561-af7f65d461b1",
   "metadata": {},
   "source": [
    "# Homework #2\n",
    "\n",
    "## Create a Farm\n",
    "\n",
    "Old McDonald is dyslexic OIEIE...\n",
    "Please help on his farm, please... \n",
    "\n",
    "Your goal is to categorize all of his animals into groups.\n",
    "example:\n",
    "- pigs are useful for there meat, skin and help improve the soil and biodiversity\n",
    "\n",
    "Create classes for all of his different types of animals \n",
    "You should have at least 5 animals on the farm ie. cows, pigs, dogs, goats \n",
    "\n",
    "VERY Poorly written example \n",
    "\n",
    "```python\n",
    "class Animals (self):\n",
    "    self.name = name\n",
    "    self.age = age\n",
    "\n",
    "class Pets(Animals):\n",
    "    self.friend = True\n",
    "    self.eat = False\n",
    "\n",
    "class Farm (Animals):\n",
    "    self.eat = True #will it be sold for food\n",
    "    self.leather = True #will it be sold for leather\n",
    "    self.helper = False #will it be used to say plow a field\n",
    "    self.soil = True #Will it be used to help the soil\n",
    "\n",
    "class Dog(Pets)\n",
    "    self.good_boy = True\n",
    "    self.type = \"type of dog\"\n",
    "listOfAnimals = [Dog()]\n",
    "```\n",
    "\n",
    "\n",
    "Your program should have an input and output allowing the user to add and remove animals. \n",
    "\n",
    "Love you !"
   ]
  },
  {
   "cell_type": "code",
   "execution_count": 63,
   "id": "bee751a0",
   "metadata": {},
   "outputs": [],
   "source": [
    "farm_produce = {}\n",
    "\n",
    "class animals (object):\n",
    "    def __init__(self,name,age):\n",
    "        self.name = name\n",
    "        self.age = age\n",
    "    \n",
    "    def getOlder(self):\n",
    "        self.age += 1\n",
    "\n",
    "# unique attributes some animals have\n",
    "class meatable (animals):\n",
    "    def __init__(self, name, age, type_of_meat):\n",
    "        self.type_of_meat = type_of_meat\n",
    "        super().__init__(name, age)\n",
    "\n",
    "    def harvest(self):\n",
    "        if self.type_of_meat in farm_produce:\n",
    "            farm_produce[self.type_of_meat] += 1\n",
    "        else:\n",
    "            farm_produce[self.type_of_meat] = 1\n",
    "\n",
    "class tame (animals):\n",
    "    def __init__(self, name, age, love, tricks = None):\n",
    "        self.love = love\n",
    "        self.tricks = tricks\n",
    "        super().__init__(name, age)\n",
    "\n",
    "    def play(self):\n",
    "        self.love += 1\n",
    "\n",
    "    def do_trick(self):\n",
    "        if self.tricks != None:\n",
    "            print(f\"{self.name} does {self.tricks}!!!!!\")\n",
    "\n",
    "\n",
    "#below are speciifc animal subclasses\n",
    "\n",
    "class chicken(meatable):\n",
    "    def __init__(self, name, age):\n",
    "        self.type_of_meat = \"white meat\"\n",
    "        super().__init__(name, age, type_of_meat= self.type_of_meat)\n",
    "\n",
    "    def lay_eggs(self):\n",
    "        if \"egg\" in farm_produce:\n",
    "            farm_produce[\"egg\"] += 1\n",
    "        else:\n",
    "            farm_produce[\"egg\"] = 1\n",
    "\n",
    "class cow(meatable):\n",
    "    def __init__(self, name, age):\n",
    "        self.type_of_meat = \"steak\"\n",
    "        super().__init__(name, age, self.type_of_meat)\n",
    "    \n",
    "    def moo(self):\n",
    "        print(\"moo\")\n",
    "\n",
    "class horse (tame):\n",
    "    def __init__(self, name, age, love):\n",
    "        self.tricks = \"dance\"\n",
    "        super().__init__(name, age, love, self.tricks)\n",
    "\n",
    "    def kick(self):\n",
    "        print(f\"ow {self.name} kicked me :(\")\n",
    "        self.do_trick()\n",
    "\n",
    "class dairyCow(cow):\n",
    "    \"\"\"version of cow that can be milked\"\"\"\n",
    "    def __init__(self, name, age):\n",
    "        super().__init__(name, age)\n",
    "\n",
    "    def milk(self):\n",
    "        if \"milk\" in farm_produce:\n",
    "            farm_produce[\"milk\"] += 1\n",
    "        else:\n",
    "            farm_produce[\"milk\"] = 1\n",
    "    \n",
    "class pig (tame):\n",
    "    def __init__(self, name, age, love):\n",
    "        tricks = \"epic backlip\"\n",
    "        self.clean = True\n",
    "        super().__init__(name, age, love, tricks)\n",
    "\n",
    "    def roll_in_mud(self):\n",
    "        self.clean = False\n",
    "\n",
    "    def bathe(self):\n",
    "        self.clean = True\n",
    "    \n",
    "    def isclean(self):\n",
    "        if self.clean == True:\n",
    "            print((f\"{self.name} is clean\"))\n",
    "        else:\n",
    "            print((f\"{self.name} is dirty, \\n ew\"))\n",
    "\n",
    "\n"
   ]
  },
  {
   "cell_type": "markdown",
   "id": "089a27b0",
   "metadata": {},
   "source": [
    "# Test functions\n"
   ]
  },
  {
   "cell_type": "code",
   "execution_count": 58,
   "id": "9b28fcb5",
   "metadata": {},
   "outputs": [
    {
     "name": "stdout",
     "output_type": "stream",
     "text": [
      "4\n",
      "5\n",
      "{'milk': 5, 'white meat': 1, 'egg': 2}\n",
      "{'milk': 5, 'white meat': 2, 'egg': 2}\n",
      "{'milk': 5, 'white meat': 2, 'egg': 4}\n"
     ]
    }
   ],
   "source": [
    "pete = chicken(\"Pete\",4)\n",
    "\n",
    "print(pete.age)\n",
    "pete.getOlder()\n",
    "print(pete.age)\n",
    "\n",
    "print(farm_produce)\n",
    "pete.harvest()\n",
    "print(farm_produce)\n",
    "pete.lay_eggs()\n",
    "pete.lay_eggs()\n",
    "print(farm_produce)"
   ]
  },
  {
   "cell_type": "code",
   "execution_count": 31,
   "id": "20055f2c",
   "metadata": {},
   "outputs": [
    {
     "name": "stdout",
     "output_type": "stream",
     "text": [
      "{'steak': 2}\n",
      "moo\n"
     ]
    }
   ],
   "source": [
    "macy = cow(\"Macy\", 9)\n",
    "\n",
    "macy.harvest()\n",
    "print(farm_produce)\n",
    "\n",
    "macy.moo()\n"
   ]
  },
  {
   "cell_type": "code",
   "execution_count": 45,
   "id": "6439be23",
   "metadata": {},
   "outputs": [
    {
     "name": "stdout",
     "output_type": "stream",
     "text": [
      "Phil does dance!!!!!\n",
      "ow Phil kicked me :(\n",
      "Phil does dance!!!!!\n",
      "phil is 5 years old\n",
      "phills love = -4\n"
     ]
    }
   ],
   "source": [
    "phil = horse(\"Phil\", 4, -5)\n",
    "\n",
    "phil.do_trick()\n",
    "phil.kick()\n",
    "phil.getOlder()\n",
    "print (f\"phil is {phil.age} years old\")\n",
    "phil.play()\n",
    "print (f\"phills love = {phil.love}\")\n"
   ]
  },
  {
   "cell_type": "code",
   "execution_count": 56,
   "id": "b7cfa02e",
   "metadata": {},
   "outputs": [
    {
     "name": "stdout",
     "output_type": "stream",
     "text": [
      "46\n",
      "{'milk': 5}\n"
     ]
    }
   ],
   "source": [
    "conrad = dairyCow(\"Conrad\", 45)\n",
    "\n",
    "conrad.getOlder()\n",
    "print(conrad.age)\n",
    "\n",
    "conrad.milk()\n",
    "print(farm_produce)"
   ]
  },
  {
   "cell_type": "code",
   "execution_count": 64,
   "id": "f0878926",
   "metadata": {},
   "outputs": [
    {
     "name": "stdout",
     "output_type": "stream",
     "text": [
      "Clair does epic backlip!!!!!\n",
      "Clair is clean\n",
      "Clair is dirty, \n",
      " ew\n",
      "Clair is clean\n"
     ]
    }
   ],
   "source": [
    "clair = pig(\"Clair\", 2, 50)\n",
    "\n",
    "clair.do_trick()\n",
    "\n",
    "clair.isclean()\n",
    "clair.roll_in_mud()\n",
    "clair.isclean()\n",
    "clair.bathe()\n",
    "clair.isclean()\n"
   ]
  }
 ],
 "metadata": {
  "kernelspec": {
   "display_name": "base",
   "language": "python",
   "name": "python3"
  },
  "language_info": {
   "codemirror_mode": {
    "name": "ipython",
    "version": 3
   },
   "file_extension": ".py",
   "mimetype": "text/x-python",
   "name": "python",
   "nbconvert_exporter": "python",
   "pygments_lexer": "ipython3",
   "version": "3.12.7"
  }
 },
 "nbformat": 4,
 "nbformat_minor": 5
}
