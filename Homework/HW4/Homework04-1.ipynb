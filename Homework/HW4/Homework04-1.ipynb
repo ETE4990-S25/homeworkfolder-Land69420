{
 "cells": [
  {
   "cell_type": "markdown",
   "id": "94336058-4ebc-4a98-9a56-de67b67d5ce5",
   "metadata": {},
   "source": [
    "# Homework #4\n",
    "\n",
    "Develop a function named decode(message_file). \n",
    "\n",
    "This function should read an encoded message from a .txt file and return its decoded version as a string.\n",
    "\n",
    "Your function must be able to process an input file with the following format:\n",
    "\n",
    "```\n",
    "3 love\n",
    "6 computers\n",
    "2 dogs\n",
    "4 cats\n",
    "1 I\n",
    "5 you\n",
    "```\n",
    "\n",
    "In this file, each line contains a number followed by a word. The task is to decode a hidden message based on the arrangement of these numbers into a \"pyramid\" structure. The numbers are placed into the pyramid in ascending order, with each line of the pyramid having one more number than the line above it. The smallest number is 1, and the numbers increase consecutively, like so:\n",
    "\n",
    "```\n",
    "   1\n",
    "  2 3\n",
    " 4 5 6\n",
    "7 8 9 10\n",
    "```\n",
    "\n",
    "The key to decoding the message is to use the words corresponding to the numbers at the end of each pyramid line (in this example, 1, 3, and 6). You should ignore all the other words. So for the example input file above, the message words are:\n",
    "\n",
    "```\n",
    "1: I\n",
    "3: love\n",
    "6: computers\n",
    "```\n",
    "and your function should return the string \"I love computers\".\n",
    "\n"
   ]
  },
  {
   "cell_type": "code",
   "execution_count": null,
   "id": "2532f781-eb6b-4dcc-aad7-b1463a8f51a6",
   "metadata": {},
   "outputs": [
    {
     "name": "stdout",
     "output_type": "stream",
     "text": [
      " design all your life so that with all the problems in a day can be solved by a system you have in place today\n"
     ]
    },
    {
     "data": {
      "text/plain": [
       "' design all your life so that with all the problems in a day can be solved by a system you have in place today'"
      ]
     },
     "execution_count": 11,
     "metadata": {},
     "output_type": "execute_result"
    }
   ],
   "source": [
    "#Code goes here\n",
    "def prep_decode(message_file):\n",
    "    \"\"\"takes message file returns dictionary with number as key and the text after as value\"\"\"\n",
    "    stripped_message = []\n",
    "    prepped_message = {}\n",
    "\n",
    "\n",
    "    with open(message_file) as file:  \n",
    "        lines = file.readlines()        # makes list with each index being the next line\n",
    "\n",
    "        for line in lines:\n",
    "            stripped_message.append(line.strip()) # removes \"\\n\" from each line\n",
    "\n",
    "        for code in stripped_message:       #converts each line into a key value pair and stores it in prepped message dictionary\n",
    "            temp = code.split()\n",
    "            prepped_message[temp[0]] = temp[1]\n",
    "\n",
    "        return prepped_message  #returns dictionary\n",
    "\n",
    "\n",
    "def decode(dictionary): \n",
    "    \"\"\"takes in dictionary of number:word\"\"\"\n",
    "    index = 1\n",
    "    increment = 1\n",
    "    secret_sentence = \"\"\n",
    "    try:                        #try block allows for keyboard interrupt just in case while 1 causes problems\n",
    "        while 1:\n",
    "            if str(index) in dictionary:            #checks if index is in dictionary, if it is add the value at index to sentence then move to next index\n",
    "                secret_sentence = secret_sentence +\" \"+ dictionary[str(index)]  \n",
    "            else:                           # if index not in dictionary, break while loop and move to returning sentence\n",
    "                break\n",
    "            increment += 1                      #increments incrementer and index to give pyramid shape \n",
    "            index += increment\n",
    "    except KeyboardInterrupt:\n",
    "        print(\"KeyboardInterrupt\")\n",
    "    except:\n",
    "        print(\"decode broken somehow\")\n",
    "    finally:\n",
    "        print(secret_sentence)              #prints and returns so u can access the sentence elsewhere if wanted\n",
    "        return secret_sentence\n",
    "\n",
    "decode(prep_decode(\"SecretMessage.txt\"))"
   ]
  },
  {
   "cell_type": "code",
   "execution_count": null,
   "id": "1854aca6",
   "metadata": {},
   "outputs": [],
   "source": []
  }
 ],
 "metadata": {
  "kernelspec": {
   "display_name": "base",
   "language": "python",
   "name": "python3"
  },
  "language_info": {
   "codemirror_mode": {
    "name": "ipython",
    "version": 3
   },
   "file_extension": ".py",
   "mimetype": "text/x-python",
   "name": "python",
   "nbconvert_exporter": "python",
   "pygments_lexer": "ipython3",
   "version": "3.12.7"
  }
 },
 "nbformat": 4,
 "nbformat_minor": 5
}
